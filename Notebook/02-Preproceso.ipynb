{
 "cells": [
  {
   "cell_type": "markdown",
   "metadata": {},
   "source": [
    "## Importación de librerías"
   ]
  },
  {
   "cell_type": "code",
   "execution_count": 1,
   "metadata": {},
   "outputs": [],
   "source": [
    "# Manipulación de datos\n",
    "import numpy as np\n",
    "import pandas as pd\n",
    "import math\n",
    "\n",
    "# Estadística y normalización\n",
    "from scipy.stats import zscore\n",
    "from sklearn.preprocessing import MinMaxScaler, OneHotEncoder, LabelEncoder\n",
    "from category_encoders import TargetEncoder\n",
    "\n",
    "# Visualización\n",
    "import matplotlib.pyplot as plt\n",
    "import seaborn as sns\n",
    "\n",
    "import data_utils as du"
   ]
  },
  {
   "cell_type": "markdown",
   "metadata": {},
   "source": [
    "## Carga de datos"
   ]
  },
  {
   "cell_type": "code",
   "execution_count": 2,
   "metadata": {},
   "outputs": [
    {
     "data": {
      "application/vnd.microsoft.datawrangler.viewer.v0+json": {
       "columns": [
        {
         "name": "index",
         "rawType": "int64",
         "type": "integer"
        },
        {
         "name": "OBJECT_ID",
         "rawType": "int64",
         "type": "integer"
        },
        {
         "name": "SEX",
         "rawType": "int64",
         "type": "integer"
        },
        {
         "name": "INSR_BEGIN",
         "rawType": "object",
         "type": "string"
        },
        {
         "name": "INSR_END",
         "rawType": "object",
         "type": "string"
        },
        {
         "name": "EFFECTIVE_YR",
         "rawType": "float64",
         "type": "float"
        },
        {
         "name": "INSR_TYPE",
         "rawType": "int64",
         "type": "integer"
        },
        {
         "name": "INSURED_VALUE",
         "rawType": "float64",
         "type": "float"
        },
        {
         "name": "PREMIUM",
         "rawType": "float64",
         "type": "float"
        },
        {
         "name": "PROD_YEAR",
         "rawType": "float64",
         "type": "float"
        },
        {
         "name": "SEATS_NUM",
         "rawType": "float64",
         "type": "float"
        },
        {
         "name": "CARRYING_CAPACITY",
         "rawType": "float64",
         "type": "float"
        },
        {
         "name": "TYPE_VEHICLE",
         "rawType": "object",
         "type": "string"
        },
        {
         "name": "CCM_TON",
         "rawType": "float64",
         "type": "float"
        },
        {
         "name": "MAKE",
         "rawType": "object",
         "type": "string"
        },
        {
         "name": "USAGE",
         "rawType": "object",
         "type": "string"
        },
        {
         "name": "CLAIM_PAID",
         "rawType": "float64",
         "type": "float"
        }
       ],
       "ref": "8a1c8641-7559-497a-82a7-dbd56074e7bf",
       "rows": [
        [
         "0",
         "5000029885",
         "0",
         "2013-08-08",
         "2014-08-07",
         "2008.0",
         "1202",
         "519755.22",
         "7209.14",
         "2007.0",
         "4.0",
         "6.0",
         "Pick-up",
         "3153.0",
         "NISSAN",
         "Own Goods",
         null
        ],
        [
         "1",
         "5000029885",
         "0",
         "2012-08-08",
         "2013-08-07",
         "2008.0",
         "1202",
         "519755.22",
         "7203.89",
         "2007.0",
         "4.0",
         "6.0",
         "Pick-up",
         "3153.0",
         "NISSAN",
         "Own Goods",
         null
        ],
        [
         "2",
         "5000029885",
         "0",
         "2011-08-08",
         "2012-08-07",
         "2008.0",
         "1202",
         "519755.22",
         "7045.804",
         "2007.0",
         "4.0",
         "6.0",
         "Pick-up",
         "3153.0",
         "NISSAN",
         "Own Goods",
         null
        ],
        [
         "3",
         "5000029885",
         "0",
         "2011-07-08",
         "2011-08-07",
         "2008.0",
         "1202",
         "519755.22",
         "287.25",
         "2007.0",
         "4.0",
         "6.0",
         "Pick-up",
         "3153.0",
         "NISSAN",
         "Own Goods",
         null
        ],
        [
         "4",
         "5000029901",
         "0",
         "2013-08-08",
         "2014-08-07",
         "2008.0",
         "1202",
         "285451.24",
         "4286.9",
         "2010.0",
         "4.0",
         "7.0",
         "Pick-up",
         "2494.0",
         "TOYOTA",
         "Own Goods",
         "19894.43"
        ]
       ],
       "shape": {
        "columns": 16,
        "rows": 5
       }
      },
      "text/html": [
       "<div>\n",
       "<style scoped>\n",
       "    .dataframe tbody tr th:only-of-type {\n",
       "        vertical-align: middle;\n",
       "    }\n",
       "\n",
       "    .dataframe tbody tr th {\n",
       "        vertical-align: top;\n",
       "    }\n",
       "\n",
       "    .dataframe thead th {\n",
       "        text-align: right;\n",
       "    }\n",
       "</style>\n",
       "<table border=\"1\" class=\"dataframe\">\n",
       "  <thead>\n",
       "    <tr style=\"text-align: right;\">\n",
       "      <th></th>\n",
       "      <th>OBJECT_ID</th>\n",
       "      <th>SEX</th>\n",
       "      <th>INSR_BEGIN</th>\n",
       "      <th>INSR_END</th>\n",
       "      <th>EFFECTIVE_YR</th>\n",
       "      <th>INSR_TYPE</th>\n",
       "      <th>INSURED_VALUE</th>\n",
       "      <th>PREMIUM</th>\n",
       "      <th>PROD_YEAR</th>\n",
       "      <th>SEATS_NUM</th>\n",
       "      <th>CARRYING_CAPACITY</th>\n",
       "      <th>TYPE_VEHICLE</th>\n",
       "      <th>CCM_TON</th>\n",
       "      <th>MAKE</th>\n",
       "      <th>USAGE</th>\n",
       "      <th>CLAIM_PAID</th>\n",
       "    </tr>\n",
       "  </thead>\n",
       "  <tbody>\n",
       "    <tr>\n",
       "      <th>0</th>\n",
       "      <td>5000029885</td>\n",
       "      <td>0</td>\n",
       "      <td>2013-08-08</td>\n",
       "      <td>2014-08-07</td>\n",
       "      <td>2008.0</td>\n",
       "      <td>1202</td>\n",
       "      <td>519755.22</td>\n",
       "      <td>7209.140</td>\n",
       "      <td>2007.0</td>\n",
       "      <td>4.0</td>\n",
       "      <td>6.0</td>\n",
       "      <td>Pick-up</td>\n",
       "      <td>3153.0</td>\n",
       "      <td>NISSAN</td>\n",
       "      <td>Own Goods</td>\n",
       "      <td>NaN</td>\n",
       "    </tr>\n",
       "    <tr>\n",
       "      <th>1</th>\n",
       "      <td>5000029885</td>\n",
       "      <td>0</td>\n",
       "      <td>2012-08-08</td>\n",
       "      <td>2013-08-07</td>\n",
       "      <td>2008.0</td>\n",
       "      <td>1202</td>\n",
       "      <td>519755.22</td>\n",
       "      <td>7203.890</td>\n",
       "      <td>2007.0</td>\n",
       "      <td>4.0</td>\n",
       "      <td>6.0</td>\n",
       "      <td>Pick-up</td>\n",
       "      <td>3153.0</td>\n",
       "      <td>NISSAN</td>\n",
       "      <td>Own Goods</td>\n",
       "      <td>NaN</td>\n",
       "    </tr>\n",
       "    <tr>\n",
       "      <th>2</th>\n",
       "      <td>5000029885</td>\n",
       "      <td>0</td>\n",
       "      <td>2011-08-08</td>\n",
       "      <td>2012-08-07</td>\n",
       "      <td>2008.0</td>\n",
       "      <td>1202</td>\n",
       "      <td>519755.22</td>\n",
       "      <td>7045.804</td>\n",
       "      <td>2007.0</td>\n",
       "      <td>4.0</td>\n",
       "      <td>6.0</td>\n",
       "      <td>Pick-up</td>\n",
       "      <td>3153.0</td>\n",
       "      <td>NISSAN</td>\n",
       "      <td>Own Goods</td>\n",
       "      <td>NaN</td>\n",
       "    </tr>\n",
       "    <tr>\n",
       "      <th>3</th>\n",
       "      <td>5000029885</td>\n",
       "      <td>0</td>\n",
       "      <td>2011-07-08</td>\n",
       "      <td>2011-08-07</td>\n",
       "      <td>2008.0</td>\n",
       "      <td>1202</td>\n",
       "      <td>519755.22</td>\n",
       "      <td>287.250</td>\n",
       "      <td>2007.0</td>\n",
       "      <td>4.0</td>\n",
       "      <td>6.0</td>\n",
       "      <td>Pick-up</td>\n",
       "      <td>3153.0</td>\n",
       "      <td>NISSAN</td>\n",
       "      <td>Own Goods</td>\n",
       "      <td>NaN</td>\n",
       "    </tr>\n",
       "    <tr>\n",
       "      <th>4</th>\n",
       "      <td>5000029901</td>\n",
       "      <td>0</td>\n",
       "      <td>2013-08-08</td>\n",
       "      <td>2014-08-07</td>\n",
       "      <td>2008.0</td>\n",
       "      <td>1202</td>\n",
       "      <td>285451.24</td>\n",
       "      <td>4286.900</td>\n",
       "      <td>2010.0</td>\n",
       "      <td>4.0</td>\n",
       "      <td>7.0</td>\n",
       "      <td>Pick-up</td>\n",
       "      <td>2494.0</td>\n",
       "      <td>TOYOTA</td>\n",
       "      <td>Own Goods</td>\n",
       "      <td>19894.43</td>\n",
       "    </tr>\n",
       "  </tbody>\n",
       "</table>\n",
       "</div>"
      ],
      "text/plain": [
       "    OBJECT_ID  SEX  INSR_BEGIN    INSR_END  EFFECTIVE_YR  INSR_TYPE  \\\n",
       "0  5000029885    0  2013-08-08  2014-08-07        2008.0       1202   \n",
       "1  5000029885    0  2012-08-08  2013-08-07        2008.0       1202   \n",
       "2  5000029885    0  2011-08-08  2012-08-07        2008.0       1202   \n",
       "3  5000029885    0  2011-07-08  2011-08-07        2008.0       1202   \n",
       "4  5000029901    0  2013-08-08  2014-08-07        2008.0       1202   \n",
       "\n",
       "   INSURED_VALUE   PREMIUM  PROD_YEAR  SEATS_NUM  CARRYING_CAPACITY  \\\n",
       "0      519755.22  7209.140     2007.0        4.0                6.0   \n",
       "1      519755.22  7203.890     2007.0        4.0                6.0   \n",
       "2      519755.22  7045.804     2007.0        4.0                6.0   \n",
       "3      519755.22   287.250     2007.0        4.0                6.0   \n",
       "4      285451.24  4286.900     2010.0        4.0                7.0   \n",
       "\n",
       "  TYPE_VEHICLE  CCM_TON    MAKE      USAGE  CLAIM_PAID  \n",
       "0      Pick-up   3153.0  NISSAN  Own Goods         NaN  \n",
       "1      Pick-up   3153.0  NISSAN  Own Goods         NaN  \n",
       "2      Pick-up   3153.0  NISSAN  Own Goods         NaN  \n",
       "3      Pick-up   3153.0  NISSAN  Own Goods         NaN  \n",
       "4      Pick-up   2494.0  TOYOTA  Own Goods    19894.43  "
      ]
     },
     "execution_count": 2,
     "metadata": {},
     "output_type": "execute_result"
    }
   ],
   "source": [
    "df = pd.read_csv('../data/motor_data_2011_2018_EDA.csv')\n",
    "\n",
    "df.head()"
   ]
  },
  {
   "cell_type": "markdown",
   "metadata": {},
   "source": [
    "## Gestión de nulos"
   ]
  },
  {
   "cell_type": "code",
   "execution_count": 3,
   "metadata": {},
   "outputs": [
    {
     "data": {
      "application/vnd.microsoft.datawrangler.viewer.v0+json": {
       "columns": [
        {
         "name": "index",
         "rawType": "object",
         "type": "string"
        },
        {
         "name": "0",
         "rawType": "int64",
         "type": "integer"
        }
       ],
       "ref": "03a5fa32-f1c0-43de-bbc7-cabd28c23bf0",
       "rows": [
        [
         "EFFECTIVE_YR",
         "1171"
        ],
        [
         "PREMIUM",
         "21"
        ],
        [
         "PROD_YEAR",
         "169"
        ],
        [
         "SEATS_NUM",
         "235"
        ],
        [
         "CARRYING_CAPACITY",
         "198162"
        ],
        [
         "CCM_TON",
         "8"
        ],
        [
         "MAKE",
         "5"
        ],
        [
         "CLAIM_PAID",
         "741693"
        ]
       ],
       "shape": {
        "columns": 1,
        "rows": 8
       }
      },
      "text/plain": [
       "EFFECTIVE_YR           1171\n",
       "PREMIUM                  21\n",
       "PROD_YEAR               169\n",
       "SEATS_NUM               235\n",
       "CARRYING_CAPACITY    198162\n",
       "CCM_TON                   8\n",
       "MAKE                      5\n",
       "CLAIM_PAID           741693\n",
       "dtype: int64"
      ]
     },
     "execution_count": 3,
     "metadata": {},
     "output_type": "execute_result"
    }
   ],
   "source": [
    "# Identificar todas las columnas numéricas del DataFrame\n",
    "num_cols = df.select_dtypes(include='number').columns\n",
    "\n",
    "# Identificación de valores nulos en el DataFrame\n",
    "cantidad_nulos = df.isna().sum()  # Suma valores nulos por columna\n",
    "cantidad_nulos = cantidad_nulos[cantidad_nulos != 0]  # Filtra solo columnas con valores nulos\n",
    "\n",
    "cantidad_nulos  # Muestra el resultado"
   ]
  },
  {
   "cell_type": "markdown",
   "metadata": {},
   "source": [
    "## Imputación de valores nulos\n",
    "\n",
    "- **Variables categóricas**  \n",
    "  Se sustituyen los valores faltantes por la categoría genérica **`\"Unknown\"`**, asegurando que ninguna etiqueta válida se vea desplazada y permitiendo identificar explícitamente la ausencia de dato.\n",
    "\n",
    "- **Variables numéricas**  \n",
    "  Usaremos la función imputar_nulos_por_distribucion del módulo data_utils\n",
    "  que realiza la imputación de valores nulos basándose en la distribución de los datos. \n",
    "\n",
    "\n",
    "> Esta estrategia de imputación mantiene la integridad del dataset y aplica un tratamiento adaptado al tipo de variable, sin necesidad de eliminar filas con información parcial.  "
   ]
  },
  {
   "cell_type": "code",
   "execution_count": 4,
   "metadata": {},
   "outputs": [
    {
     "name": "stdout",
     "output_type": "stream",
     "text": [
      "Asimetría (skewness) de 'EFFECTIVE_YR': 2.706\n",
      "Media    de 'EFFECTIVE_YR': 2019.844\n",
      "Mediana  de 'EFFECTIVE_YR': 2013.000\n",
      "Moda     de 'EFFECTIVE_YR': 2011.0\n",
      "Distribución asimétrica (|skew| ≥ 0.5), imputando con moda.\n",
      "\n",
      "Asimetría (skewness) de 'PREMIUM': 220.504\n",
      "Media    de 'PREMIUM': 7407.881\n",
      "Mediana  de 'PREMIUM': 3378.170\n",
      "Moda     de 'PREMIUM': 347.7\n",
      "Distribución asimétrica (|skew| ≥ 0.5), imputando con moda.\n",
      "\n",
      "Asimetría (skewness) de 'PROD_YEAR': -1.169\n",
      "Media    de 'PROD_YEAR': 2004.534\n",
      "Mediana  de 'PROD_YEAR': 2008.000\n",
      "Moda     de 'PROD_YEAR': 2012.0\n",
      "Distribución asimétrica (|skew| ≥ 0.5), imputando con moda.\n",
      "\n",
      "Asimetría (skewness) de 'SEATS_NUM': 6.595\n",
      "Media    de 'SEATS_NUM': 6.130\n",
      "Mediana  de 'SEATS_NUM': 4.000\n",
      "Moda     de 'SEATS_NUM': 4.0\n",
      "Distribución asimétrica (|skew| ≥ 0.5), imputando con moda.\n",
      "\n",
      "Asimetría (skewness) de 'CARRYING_CAPACITY': 39.458\n",
      "Media    de 'CARRYING_CAPACITY': 497.998\n",
      "Mediana  de 'CARRYING_CAPACITY': 6.000\n",
      "Moda     de 'CARRYING_CAPACITY': 0.0\n",
      "Distribución asimétrica (|skew| ≥ 0.5), imputando con moda.\n",
      "\n",
      "Asimetría (skewness) de 'CCM_TON': 1.575\n",
      "Media    de 'CCM_TON': 3172.886\n",
      "Mediana  de 'CCM_TON': 2494.000\n",
      "Moda     de 'CCM_TON': 0.0\n",
      "Distribución asimétrica (|skew| ≥ 0.5), imputando con moda.\n",
      "\n",
      "Columna 'MAKE' no numérica, imputando con moda: TOYOTA\n",
      "\n",
      "\n",
      "Nulos restantes después de imputar:\n",
      "Series([], dtype: int64)\n"
     ]
    }
   ],
   "source": [
    "# Imputación de valores nulos en columnas numéricas\n",
    "#  ----------------------------------------------------------------\n",
    "\n",
    "# CLAIM_PAID tiene 0s y NaNs, los NaNs indican que no hubo reclamación\n",
    "# Vamos a imputar los NaNs con 0 y crear una nueva columna HAS_CLAIM \n",
    "# que indique si hubo una reclamación o no.\n",
    "# Completamos CLAIM_PAID con 0 y creamos HAS_CLAIM\n",
    "df['CLAIM_PAID'] = df['CLAIM_PAID'].fillna(0)\n",
    "df['HAS_CLAIM'] = np.where(df['CLAIM_PAID'] > 0, 1, 0)\n",
    "\n",
    "# Filtramos columnas a imputar (excluimos CLAIM_PAID, ya imputado)\n",
    "columnas_a_imputar = [col for col in df.columns if col != 'CLAIM_PAID']\n",
    "\n",
    "# Imputamos\n",
    "df = du.imputar_nulos_por_distribucion(df, columnas_a_imputar)\n",
    "\n",
    "# Verificamos nulos restantes\n",
    "print(\"\\nNulos restantes después de imputar:\")\n",
    "print(df.isnull().sum()[df.isnull().sum() > 0])"
   ]
  },
  {
   "cell_type": "code",
   "execution_count": 5,
   "metadata": {},
   "outputs": [
    {
     "data": {
      "application/vnd.microsoft.datawrangler.viewer.v0+json": {
       "columns": [
        {
         "name": "index",
         "rawType": "object",
         "type": "string"
        },
        {
         "name": "0",
         "rawType": "float64",
         "type": "float"
        }
       ],
       "ref": "8331664c-4b2d-4988-a0d4-479b9c6bf330",
       "rows": [],
       "shape": {
        "columns": 1,
        "rows": 0
       }
      },
      "text/plain": [
       "Series([], dtype: float64)"
      ]
     },
     "execution_count": 5,
     "metadata": {},
     "output_type": "execute_result"
    }
   ],
   "source": [
    "# # Análisis de valores únicos en columnas categóricas con valores nulos\n",
    "# ----------------------------------------------------------------\n",
    "# Identificar todas las columnas categóricas\n",
    "cat_cols = df.select_dtypes(include='object').columns\n",
    "\n",
    "# Filtrar solo las categóricas que tienen nulos\n",
    "cat_nulls = [col for col in cat_cols if df[col].isna().sum() > 0]\n",
    "\n",
    "# Crear variables indicadoras para cada una\n",
    "for col in cat_nulls:\n",
    "    df[f\"{col}_missing\"] = df[col].isna().astype(int)\n",
    "# mostrar las columnas que tienen valores nulos\n",
    "df[cat_nulls].isna().sum()"
   ]
  },
  {
   "cell_type": "code",
   "execution_count": 6,
   "metadata": {},
   "outputs": [
    {
     "name": "stdout",
     "output_type": "stream",
     "text": [
      "\n",
      "Listado de marcas finales:\n",
      "MAKE\n",
      "TOYOTA        272628\n",
      "OTRAS         192759\n",
      "ISUZU          75661\n",
      "BAJAJI         67320\n",
      "NISSAN         37183\n",
      "MITSUBISHI     22093\n",
      "IVECO          20439\n",
      "BAJAJ          17917\n",
      "SINO HOWO      17024\n",
      "YAMAHA         15743\n",
      "SUZUKI         13061\n",
      "FIAT           12902\n",
      "BISHOFTU       12515\n",
      "TVS            12405\n",
      "MESFIN         12188\n",
      "Name: count, dtype: int64\n"
     ]
    }
   ],
   "source": [
    "# Normalizar la columna categórica 'MAKE'\n",
    "#  ----------------------------------------------------------------\n",
    "\n",
    "# 1️⃣ Normalizar texto: mayúsculas, eliminar espacios extremos\n",
    "df['MAKE'] = df['MAKE'].str.upper().str.strip()\n",
    "\n",
    "# 2️⃣ Reemplazos manuales para corregir inconsistencias conocidas\n",
    "reemplazos = {\n",
    "    'TOYOTA JAPAN': 'TOYOTA',\n",
    "    # Puedes añadir más casos aquí si detectas otros errores\n",
    "}\n",
    "\n",
    "df['MAKE'] = df['MAKE'].replace(reemplazos)\n",
    "\n",
    "# 3️⃣ Agrupar marcas poco frecuentes en 'OTRAS'\n",
    "umbral = 0.01 * len(df)  # Marcas que representan menos del 1% de los registros\n",
    "marcas_frecuentes = df['MAKE'].value_counts()[df['MAKE'].value_counts() > umbral].index\n",
    "\n",
    "df['MAKE'] = df['MAKE'].apply(lambda x: x if x in marcas_frecuentes else 'OTRAS')\n",
    "\n",
    "# 4️⃣ Mostrar resultado final\n",
    "print(\"\\nListado de marcas finales:\")\n",
    "print(df['MAKE'].value_counts())\n",
    "\n"
   ]
  },
  {
   "cell_type": "code",
   "execution_count": 7,
   "metadata": {},
   "outputs": [
    {
     "data": {
      "text/plain": [
       "np.int64(0)"
      ]
     },
     "execution_count": 7,
     "metadata": {},
     "output_type": "execute_result"
    }
   ],
   "source": [
    "# Comprobación de nulos\n",
    "df.isna().sum().sum()"
   ]
  },
  {
   "cell_type": "markdown",
   "metadata": {},
   "source": [
    "## Gestión outliers"
   ]
  },
  {
   "cell_type": "markdown",
   "metadata": {},
   "source": [
    "### Identificación de outliers mediante boxplot"
   ]
  },
  {
   "cell_type": "code",
   "execution_count": 8,
   "metadata": {},
   "outputs": [
    {
     "name": "stderr",
     "output_type": "stream",
     "text": [
      "/var/folders/s8/l3j5zms14s71b3h4v6d7qkl00000gn/T/ipykernel_2305/3560430413.py:24: FutureWarning: \n",
      "\n",
      "Passing `palette` without assigning `hue` is deprecated and will be removed in v0.14.0. Assign the `y` variable to `hue` and set `legend=False` for the same effect.\n",
      "\n",
      "  sns.boxplot(\n",
      "/var/folders/s8/l3j5zms14s71b3h4v6d7qkl00000gn/T/ipykernel_2305/3560430413.py:24: FutureWarning: \n",
      "\n",
      "Passing `palette` without assigning `hue` is deprecated and will be removed in v0.14.0. Assign the `y` variable to `hue` and set `legend=False` for the same effect.\n",
      "\n",
      "  sns.boxplot(\n",
      "/var/folders/s8/l3j5zms14s71b3h4v6d7qkl00000gn/T/ipykernel_2305/3560430413.py:24: FutureWarning: \n",
      "\n",
      "Passing `palette` without assigning `hue` is deprecated and will be removed in v0.14.0. Assign the `y` variable to `hue` and set `legend=False` for the same effect.\n",
      "\n",
      "  sns.boxplot(\n",
      "/var/folders/s8/l3j5zms14s71b3h4v6d7qkl00000gn/T/ipykernel_2305/3560430413.py:24: FutureWarning: \n",
      "\n",
      "Passing `palette` without assigning `hue` is deprecated and will be removed in v0.14.0. Assign the `y` variable to `hue` and set `legend=False` for the same effect.\n",
      "\n",
      "  sns.boxplot(\n",
      "/var/folders/s8/l3j5zms14s71b3h4v6d7qkl00000gn/T/ipykernel_2305/3560430413.py:24: FutureWarning: \n",
      "\n",
      "Passing `palette` without assigning `hue` is deprecated and will be removed in v0.14.0. Assign the `y` variable to `hue` and set `legend=False` for the same effect.\n",
      "\n",
      "  sns.boxplot(\n",
      "/var/folders/s8/l3j5zms14s71b3h4v6d7qkl00000gn/T/ipykernel_2305/3560430413.py:24: FutureWarning: \n",
      "\n",
      "Passing `palette` without assigning `hue` is deprecated and will be removed in v0.14.0. Assign the `y` variable to `hue` and set `legend=False` for the same effect.\n",
      "\n",
      "  sns.boxplot(\n",
      "/var/folders/s8/l3j5zms14s71b3h4v6d7qkl00000gn/T/ipykernel_2305/3560430413.py:24: FutureWarning: \n",
      "\n",
      "Passing `palette` without assigning `hue` is deprecated and will be removed in v0.14.0. Assign the `y` variable to `hue` and set `legend=False` for the same effect.\n",
      "\n",
      "  sns.boxplot(\n",
      "/var/folders/s8/l3j5zms14s71b3h4v6d7qkl00000gn/T/ipykernel_2305/3560430413.py:24: FutureWarning: \n",
      "\n",
      "Passing `palette` without assigning `hue` is deprecated and will be removed in v0.14.0. Assign the `y` variable to `hue` and set `legend=False` for the same effect.\n",
      "\n",
      "  sns.boxplot(\n",
      "/var/folders/s8/l3j5zms14s71b3h4v6d7qkl00000gn/T/ipykernel_2305/3560430413.py:24: FutureWarning: \n",
      "\n",
      "Passing `palette` without assigning `hue` is deprecated and will be removed in v0.14.0. Assign the `y` variable to `hue` and set `legend=False` for the same effect.\n",
      "\n",
      "  sns.boxplot(\n"
     ]
    },
    {
     "data": {
      "image/png": "[encoded data removed]",
      "text/plain": [
       "<Figure size 1000x750 with 9 Axes>"
      ]
     },
     "metadata": {},
     "output_type": "display_data"
    }
   ],
   "source": [
    "# Visualización de outliers en variables numéricas mediante diagramas de caja\n",
    "\n",
    "# Seleccionar solo columnas numéricas del DataFrame\n",
    "# Seleccionamos solo las columnas numéricas, excluyendo HAS_CLAIM, OBJECT_ID por ser clave y\n",
    "# INSR_TYPE por ser categorica a pesar de ser numérica\n",
    "df_num = df.select_dtypes(include=np.number).drop(columns=['HAS_CLAIM', 'OBJECT_ID', 'INSR_TYPE'], errors='ignore')\n",
    "cols_num = df_num.columns\n",
    "\n",
    "# Calcular el número de gráficos y filas necesarias\n",
    "n_plots = len(cols_num)\n",
    "num_rows = math.ceil(n_plots / 2)  # Se distribuyen en 2 columnas\n",
    "\n",
    "# Ajustar dinámicamente el tamaño de la figura\n",
    "width = 5 * 2\n",
    "height = 1.5 * num_rows\n",
    "size = (width, height)\n",
    "\n",
    "# Crear la estructura de subplots\n",
    "fig, axes = plt.subplots(nrows=num_rows, ncols=2, figsize=size)\n",
    "axes = axes.flat  # Convertir matriz de ejes a lista plana\n",
    "\n",
    "# Crear un boxplot para cada variable numérica\n",
    "for i, col in enumerate(cols_num):\n",
    "   sns.boxplot(\n",
    "       x=col,\n",
    "       data=df_num,\n",
    "       palette=\"viridis\",\n",
    "       ax=axes[i]\n",
    "   )\n",
    "\n",
    "   axes[i].set_title(f'{col} outliers')\n",
    "   axes[i].set_xlabel('')  # Eliminar etiqueta del eje x para mayor claridad\n",
    "\n",
    "# Eliminar el último gráfico si sobra un espacio vacío\n",
    "if n_plots % 2 != 0:\n",
    "   fig.delaxes(axes[-1])\n",
    "\n",
    "# Ajustar el layout y mostrar la figura\n",
    "plt.tight_layout()\n",
    "plt.show()\n"
   ]
  },
  {
   "cell_type": "markdown",
   "metadata": {},
   "source": [
    "✅ Código para detección y almacenamiento de outliers listos para imputación"
   ]
  },
  {
   "cell_type": "code",
   "execution_count": 9,
   "metadata": {},
   "outputs": [
    {
     "name": "stdout",
     "output_type": "stream",
     "text": [
      "Número de outliers por variable:\n",
      "                   n_outliers\n",
      "SEX                         0\n",
      "EFFECTIVE_YR           116970\n",
      "INSURED_VALUE           51766\n",
      "PREMIUM                 67742\n",
      "PROD_YEAR               20694\n",
      "SEATS_NUM              113023\n",
      "CARRYING_CAPACITY      159442\n",
      "CCM_TON                 52090\n",
      "CLAIM_PAID              60104\n",
      "\n",
      "Ejemplos de outliers en 'EFFECTIVE_YR':\n",
      "      EFFECTIVE_YR\n",
      "379         2000.0\n",
      "10          2001.0\n",
      "852         2002.0\n",
      "395         2003.0\n",
      "2790        2024.0\n",
      "\n",
      "Ejemplos de outliers en 'INSURED_VALUE':\n",
      "        INSURED_VALUE\n",
      "711986     1825094.32\n",
      "116002     1825212.80\n",
      "801185     1825228.71\n",
      "115977     1825483.31\n",
      "689860     1825979.00\n",
      "\n",
      "Ejemplos de outliers en 'PREMIUM':\n",
      "         PREMIUM\n",
      "578636  22975.00\n",
      "200134  22976.05\n",
      "196159  22976.10\n",
      "673327  22976.16\n",
      "53022   22976.61\n",
      "\n",
      "Ejemplos de outliers en 'PROD_YEAR':\n",
      "        PROD_YEAR\n",
      "93290      1950.0\n",
      "136975     1951.0\n",
      "130683     1952.0\n",
      "38165      1953.0\n",
      "117039     1954.0\n",
      "\n",
      "Ejemplos de outliers en 'SEATS_NUM':\n",
      "       SEATS_NUM\n",
      "81           9.0\n",
      "8           10.0\n",
      "14          11.0\n",
      "15          12.0\n",
      "10342       13.0\n",
      "\n",
      "Ejemplos de outliers en 'CARRYING_CAPACITY':\n",
      "        CARRYING_CAPACITY\n",
      "69134               25.10\n",
      "126622              25.20\n",
      "141839              25.35\n",
      "176581              25.50\n",
      "94220               25.80\n",
      "\n",
      "Ejemplos de outliers en 'CCM_TON':\n",
      "        CCM_TON\n",
      "188242  10121.0\n",
      "273900  10150.0\n",
      "674069  10156.0\n",
      "113474  10170.0\n",
      "280319  10200.0\n",
      "\n",
      "Ejemplos de outliers en 'CLAIM_PAID':\n",
      "        CLAIM_PAID\n",
      "493417         5.0\n",
      "35607         10.0\n",
      "514501        12.0\n",
      "13360         13.0\n",
      "222452        13.6\n"
     ]
    }
   ],
   "source": [
    "# Diccionario para almacenar los índices de los outliers detectados en cada columna\n",
    "outliers_indices_dict = {}\n",
    "\n",
    "# Iterar sobre cada columna numérica\n",
    "for col in df_num.columns:\n",
    "    \n",
    "    # Calcular cuartiles\n",
    "    Q1 = df_num[col].quantile(0.25)\n",
    "    Q3 = df_num[col].quantile(0.75)\n",
    "    IQR = Q3 - Q1\n",
    "    \n",
    "    # Límites para considerar outliers\n",
    "    lower_bound = Q1 - 1.5 * IQR\n",
    "    upper_bound = Q3 + 1.5 * IQR\n",
    "\n",
    "    # Índices de outliers\n",
    "    outlier_indices = df_num[(df_num[col] < lower_bound) | (df_num[col] > upper_bound)].index.tolist()\n",
    "    \n",
    "    # Guardamos los índices de los outliers\n",
    "    outliers_indices_dict[col] = outlier_indices\n",
    "\n",
    "# 1) Resumen: número de outliers por variable\n",
    "outlier_counts = {col: len(indices) for col, indices in outliers_indices_dict.items()}\n",
    "outlier_summary = pd.DataFrame.from_dict(outlier_counts, orient='index', columns=['n_outliers'])\n",
    "print(\"Número de outliers por variable:\")\n",
    "print(outlier_summary)\n",
    "\n",
    "# 2) Mostrar ejemplos de los registros outliers por variable\n",
    "for col, indices in outliers_indices_dict.items():\n",
    "    if indices:\n",
    "        print(f\"\\nEjemplos de outliers en '{col}':\")\n",
    "        print(df.loc[indices, col].drop_duplicates().sort_values().head(5).to_frame())\n"
   ]
  },
  {
   "cell_type": "markdown",
   "metadata": {},
   "source": [
    "### Detección de outliers mediante el método IQR"
   ]
  },
  {
   "cell_type": "code",
   "execution_count": 10,
   "metadata": {},
   "outputs": [
    {
     "name": "stdout",
     "output_type": "stream",
     "text": [
      "Número de outliers por variable:\n",
      "                   n_outliers\n",
      "SEX                         0\n",
      "EFFECTIVE_YR           116970\n",
      "INSURED_VALUE           51766\n",
      "PREMIUM                 67742\n",
      "PROD_YEAR               20694\n",
      "SEATS_NUM              113023\n",
      "CARRYING_CAPACITY      159442\n",
      "CCM_TON                 52090\n",
      "CLAIM_PAID              60104\n",
      "\n",
      "Ejemplos de outliers en 'EFFECTIVE_YR':\n",
      "    EFFECTIVE_YR\n",
      "10        2001.0\n",
      "17        2061.0\n",
      "23        2074.0\n",
      "59        2089.0\n",
      "56        2097.0\n",
      "\n",
      "Ejemplos de outliers en 'INSURED_VALUE':\n",
      "    INSURED_VALUE\n",
      "25     2363510.00\n",
      "44     2550000.00\n",
      "34     2592457.65\n",
      "13     3200000.00\n",
      "11     3400000.00\n",
      "\n",
      "Ejemplos de outliers en 'PREMIUM':\n",
      "      PREMIUM\n",
      "31  25401.527\n",
      "25  29682.180\n",
      "26  30371.490\n",
      "11  44618.410\n",
      "13  53018.730\n",
      "\n",
      "Ejemplos de outliers en 'PROD_YEAR':\n",
      "     PROD_YEAR\n",
      "332     1969.0\n",
      "64      1974.0\n",
      "278     1976.0\n",
      "179     1980.0\n",
      "240     1981.0\n",
      "\n",
      "Ejemplos de outliers en 'SEATS_NUM':\n",
      "     SEATS_NUM\n",
      "81         9.0\n",
      "8         10.0\n",
      "14        11.0\n",
      "15        12.0\n",
      "113       45.0\n",
      "\n",
      "Ejemplos de outliers en 'CARRYING_CAPACITY':\n",
      "    CARRYING_CAPACITY\n",
      "18              153.0\n",
      "34              158.0\n",
      "29              164.3\n",
      "11              220.0\n",
      "25            18000.0\n",
      "\n",
      "Ejemplos de outliers en 'CCM_TON':\n",
      "     CCM_TON\n",
      "50   11548.0\n",
      "186  11630.0\n",
      "18   11945.0\n",
      "11   12880.0\n",
      "29   13798.0\n",
      "\n",
      "Ejemplos de outliers en 'CLAIM_PAID':\n",
      "    CLAIM_PAID\n",
      "4     19894.43\n",
      "71    23840.01\n",
      "5     26916.44\n",
      "62    70809.30\n",
      "26   105388.20\n"
     ]
    }
   ],
   "source": [
    "# Diccionario para almacenar los outliers detectados en cada columna\n",
    "outliers_dict_iqr = {}\n",
    "\n",
    "# Iterar sobre cada columna numérica\n",
    "for col in df_num.columns:\n",
    "    # Calcular los cuartiles Q1 y Q3\n",
    "    Q1 = df_num[col].quantile(0.25)\n",
    "    Q3 = df_num[col].quantile(0.75)\n",
    "    IQR = Q3 - Q1  # Rango intercuartil\n",
    "\n",
    "    # Definir límites para detectar outliers (método de la valla)\n",
    "    lower_bound = Q1 - 1.5 * IQR\n",
    "    upper_bound = Q3 + 1.5 * IQR\n",
    "\n",
    "    # Filtrar outliers en la columna actual\n",
    "    outliers = df_num[(df_num[col] < lower_bound) | (df_num[col] > upper_bound)]\n",
    "    \n",
    "    # Almacenar los outliers en el diccionario\n",
    "    outliers_dict_iqr[col] = outliers[col]\n",
    "\n",
    "# 1) Resumen: número de outliers por variable\n",
    "outlier_counts = {col: series.shape[0] for col, series in outliers_dict_iqr.items()}\n",
    "outlier_summary = pd.DataFrame.from_dict(outlier_counts, orient='index', columns=['n_outliers'])\n",
    "print(\"Número de outliers por variable:\")\n",
    "print(outlier_summary)\n",
    "\n",
    "# 2) Mostrar ejemplos de outliers (hasta 5 por variable)\n",
    "for col, series in outliers_dict_iqr.items():\n",
    "    if not series.empty:\n",
    "        print(f\"\\nEjemplos de outliers en '{col}':\")\n",
    "        print(series.drop_duplicates().head(5).sort_values().to_frame())\n"
   ]
  },
  {
   "cell_type": "code",
   "execution_count": 11,
   "metadata": {},
   "outputs": [
    {
     "name": "stdout",
     "output_type": "stream",
     "text": [
      "✅ La columna HAS_CLAIM cumple correctamente con la norma establecida.\n"
     ]
    }
   ],
   "source": [
    "# Casos donde la norma NO se cumple\n",
    "inconsistencias = df[\n",
    "    ((df['CLAIM_PAID'] > 0) & (df['HAS_CLAIM'] != 1)) |\n",
    "    ((df['CLAIM_PAID'] <= 0) & (df['HAS_CLAIM'] != 0))\n",
    "]\n",
    "\n",
    "# Mostramos resultado\n",
    "if inconsistencias.empty:\n",
    "    print(\"✅ La columna HAS_CLAIM cumple correctamente con la norma establecida.\")\n",
    "else:\n",
    "    print(f\"⚠️ Se encontraron {len(inconsistencias)} registros que NO cumplen la norma.\")\n",
    "    display(inconsistencias.head())\n"
   ]
  },
  {
   "cell_type": "code",
   "execution_count": 12,
   "metadata": {},
   "outputs": [
    {
     "name": "stdout",
     "output_type": "stream",
     "text": [
      "SEX\n",
      "0    415244\n",
      "1    318530\n",
      "2     68064\n",
      "Name: count, dtype: int64\n",
      "Proporción Femenino (0): 56.59%\n",
      "Proporción Masculino (1): 43.41%\n",
      "SEX\n",
      "0    0.565901\n",
      "1    0.434099\n",
      "Name: proportion, dtype: float64\n"
     ]
    }
   ],
   "source": [
    "# Tratamiento de outliers binario de SEX\n",
    "\n",
    "# Revisión inicial de los valores\n",
    "print(df['SEX'].value_counts())\n",
    "\n",
    "# Contamos proporciones de 0 y 1 (ignorando los 2)\n",
    "sexo_validos = df[df['SEX'].isin([0, 1])]\n",
    "proporcion_fem = (sexo_validos['SEX'] == 0).mean()\n",
    "proporcion_masc = (sexo_validos['SEX'] == 1).mean()\n",
    "\n",
    "print(f\"Proporción Femenino (0): {proporcion_fem:.2%}\")\n",
    "print(f\"Proporción Masculino (1): {proporcion_masc:.2%}\")\n",
    "\n",
    "# Identificamos posiciones de los valores 2\n",
    "idx_dos = df[df['SEX'] == 2].index\n",
    "\n",
    "# Generamos nuevos valores aleatorios respetando la proporción\n",
    "n_dos = len(idx_dos)\n",
    "n_fem = int(n_dos * proporcion_fem)\n",
    "n_masc = n_dos - n_fem\n",
    "\n",
    "# Mezclamos aleatoriamente las nuevas asignaciones\n",
    "nuevos_valores = np.array([0]*n_fem + [1]*n_masc)\n",
    "np.random.shuffle(nuevos_valores)\n",
    "\n",
    "# Asignamos los nuevos valores\n",
    "df.loc[idx_dos, 'SEX'] = nuevos_valores\n",
    "\n",
    "# Verificamos el resultado final\n",
    "print(df['SEX'].value_counts(normalize=True))\n"
   ]
  },
  {
   "cell_type": "code",
   "execution_count": 13,
   "metadata": {},
   "outputs": [
    {
     "name": "stdout",
     "output_type": "stream",
     "text": [
      "       INSR_BEGIN  EFFECTIVE_YR\n",
      "10     2011-07-08        2011.0\n",
      "17     2011-12-04        2011.0\n",
      "23     2011-08-03        2011.0\n",
      "56     2013-07-10        2013.0\n",
      "57     2012-07-08        2012.0\n",
      "...           ...           ...\n",
      "801808 2018-06-21        2018.0\n",
      "801814 2018-01-01        2018.0\n",
      "801820 2018-01-01        2018.0\n",
      "801821 2018-01-01        2018.0\n",
      "801828 2018-01-01        2018.0\n",
      "\n",
      "[118862 rows x 2 columns]\n"
     ]
    }
   ],
   "source": [
    "# tratamiento de outliers en EFFECTIVE_YR\n",
    "# actualizar los valores de EFFECTIVE_YR usando el año de la columna INSR_BEGIN, solo en aquellos casos donde EFFECTIVE_YR tenga valores atípicos \n",
    "\n",
    "# Convertir 'INSR_BEGIN' a datetime para extraer el año\n",
    "df['INSR_BEGIN'] = pd.to_datetime(df['INSR_BEGIN'], errors='coerce')\n",
    "\n",
    "# Definir condición de outliers en EFFECTIVE_YR\n",
    "cond_outliers = (df['EFFECTIVE_YR'] > 2025) | (df['EFFECTIVE_YR'] < 2005)\n",
    "\n",
    "# Actualizar EFFECTIVE_YR con el año de INSR_BEGIN solo para los casos anómalos\n",
    "df.loc[cond_outliers, 'EFFECTIVE_YR'] = df.loc[cond_outliers, 'INSR_BEGIN'].dt.year\n",
    "\n",
    "# Verificar los cambios\n",
    "print(df.loc[cond_outliers, ['INSR_BEGIN', 'EFFECTIVE_YR']])"
   ]
  },
  {
   "cell_type": "markdown",
   "metadata": {},
   "source": [
    "✅ Código para imputar nulos, y outliers por similitud de características"
   ]
  },
  {
   "cell_type": "code",
   "execution_count": 14,
   "metadata": {},
   "outputs": [
    {
     "name": "stdout",
     "output_type": "stream",
     "text": [
      "\n",
      "Imputando columna: SEATS_NUM\n",
      "\n",
      "Imputando columna: PROD_YEAR\n",
      "\n",
      "Imputando columna: CARRYING_CAPACITY\n",
      "\n",
      "Imputando columna: CCM_TON\n",
      "\n",
      "Verificación final:\n",
      "SEATS_NUM            0\n",
      "PROD_YEAR            0\n",
      "CARRYING_CAPACITY    0\n",
      "CCM_TON              0\n",
      "dtype: int64\n",
      "SEATS_NUM            0\n",
      "PROD_YEAR            0\n",
      "CARRYING_CAPACITY    0\n",
      "CCM_TON              0\n",
      "dtype: int64\n"
     ]
    }
   ],
   "source": [
    "# Columnas a imputar\n",
    "columnas_a_imputar = ['SEATS_NUM', 'PROD_YEAR', 'CARRYING_CAPACITY', 'CCM_TON']\n",
    "\n",
    "for col in columnas_a_imputar:\n",
    "    \n",
    "    print(f\"\\nImputando columna: {col}\")\n",
    "    \n",
    "    # 1️⃣ Crear máscara inicial de registros a imputar: nulos, ceros o outliers\n",
    "    indices_outliers = outliers_indices_dict.get(col, [])\n",
    "    mask_imputar = df[col].isna() | (df[col] == 0) | (df.index.isin(indices_outliers))\n",
    "    \n",
    "    # 2️⃣ DataFrame auxiliar con registros válidos (excluye outliers)\n",
    "    df_validos = df.loc[~mask_imputar, ['TYPE_VEHICLE', 'MAKE', 'USAGE', col]]\n",
    "    \n",
    "    # 3️⃣ Calcular moda estricta por combinación TYPE_VEHICLE + MAKE + USAGE\n",
    "    moda_estricta = df_validos.groupby(['TYPE_VEHICLE', 'MAKE', 'USAGE'])[col].agg(lambda x: x.mode()[0]).reset_index()\n",
    "\n",
    "    # 4️⃣ Imputación estricta por merge\n",
    "    df_temp = df.loc[mask_imputar, ['TYPE_VEHICLE', 'MAKE', 'USAGE']].merge(\n",
    "        moda_estricta,\n",
    "        how='left',\n",
    "        on=['TYPE_VEHICLE', 'MAKE', 'USAGE']\n",
    "    )\n",
    "    \n",
    "    # Asignar los valores imputados estrictos solo donde se obtuvo valor\n",
    "    indices_a_imputar = df.loc[mask_imputar].index\n",
    "    df.loc[indices_a_imputar, col] = df_temp[col].values\n",
    "\n",
    "    # 5️⃣ Actualizar máscara: solo los que siguen NaN o 0 después de imputación estricta\n",
    "    mask_restantes = df[col].isna() | (df[col] == 0)\n",
    "\n",
    "    # 6️⃣ Calcular moda relajada solo por TYPE_VEHICLE\n",
    "    moda_relajada = df_validos.groupby('TYPE_VEHICLE')[col].agg(lambda x: x.mode()[0]).reset_index()\n",
    "\n",
    "    # 7️⃣ Imputación relajada por merge\n",
    "    df_temp = df.loc[mask_restantes, ['TYPE_VEHICLE']].merge(\n",
    "        moda_relajada,\n",
    "        how='left',\n",
    "        on='TYPE_VEHICLE'\n",
    "    )\n",
    "    \n",
    "    indices_a_imputar = df.loc[mask_restantes].index\n",
    "    df.loc[indices_a_imputar, col] = df_temp[col].values\n",
    "\n",
    "    # 8️⃣ Imputación global con moda general\n",
    "    moda_global = df_validos[col].mode()[0]\n",
    "    df[col] = df[col].fillna(moda_global)\n",
    "    df[col] = df[col].replace(0, moda_global)\n",
    "\n",
    "# ✅ Verificación final\n",
    "print(\"\\nVerificación final:\")\n",
    "print(df[columnas_a_imputar].isna().sum())   # Cuántos NaN quedan\n",
    "print((df[columnas_a_imputar] == 0).sum())  # Cuántos ceros quedan\n",
    "\n",
    "\n"
   ]
  },
  {
   "cell_type": "code",
   "execution_count": 15,
   "metadata": {},
   "outputs": [
    {
     "data": {
      "text/plain": [
       "({'SEX': Series([], Name: SEX, dtype: int64),\n",
       "  'EFFECTIVE_YR': 2790      2024.0\n",
       "  2791      2024.0\n",
       "  3509      2024.0\n",
       "  4306      2025.0\n",
       "  4307      2025.0\n",
       "             ...  \n",
       "  783321    2025.0\n",
       "  789219    2023.0\n",
       "  801549    2023.0\n",
       "  801662    2023.0\n",
       "  801663    2023.0\n",
       "  Name: EFFECTIVE_YR, Length: 1736, dtype: float64,\n",
       "  'INSURED_VALUE': 11        3400000.00\n",
       "  13        3200000.00\n",
       "  25        2363510.00\n",
       "  26        2363510.00\n",
       "  34        2592457.65\n",
       "               ...    \n",
       "  801809    1850000.00\n",
       "  801810    4400000.00\n",
       "  801812    3400000.00\n",
       "  801815    2600000.00\n",
       "  801831    4500000.00\n",
       "  Name: INSURED_VALUE, Length: 51766, dtype: float64,\n",
       "  'PREMIUM': 11        44618.410\n",
       "  13        53018.730\n",
       "  25        29682.180\n",
       "  26        30371.490\n",
       "  31        25401.527\n",
       "              ...    \n",
       "  801676    26243.440\n",
       "  801683    37168.930\n",
       "  801718    35711.310\n",
       "  801756    23668.640\n",
       "  801768    31429.830\n",
       "  Name: PREMIUM, Length: 67742, dtype: float64,\n",
       "  'PROD_YEAR': Series([], Name: PROD_YEAR, dtype: float64),\n",
       "  'SEATS_NUM': Series([], Name: SEATS_NUM, dtype: float64),\n",
       "  'CARRYING_CAPACITY': 174       24.0\n",
       "  375       25.0\n",
       "  376       25.0\n",
       "  377       25.0\n",
       "  378       25.0\n",
       "            ... \n",
       "  801345    24.0\n",
       "  801489    24.0\n",
       "  801524    22.0\n",
       "  801692    24.0\n",
       "  801734    24.0\n",
       "  Name: CARRYING_CAPACITY, Length: 23966, dtype: float64,\n",
       "  'CCM_TON': 11        9726.0\n",
       "  12        9726.0\n",
       "  13        9726.0\n",
       "  25        9726.0\n",
       "  26        9726.0\n",
       "             ...  \n",
       "  801715    8709.0\n",
       "  801722    9726.0\n",
       "  801723    9726.0\n",
       "  801736    9726.0\n",
       "  801808    9727.0\n",
       "  Name: CCM_TON, Length: 60187, dtype: float64,\n",
       "  'CLAIM_PAID': 4          19894.43\n",
       "  5          26916.44\n",
       "  26        105388.20\n",
       "  62         70809.30\n",
       "  71         23840.01\n",
       "              ...    \n",
       "  801637     20548.32\n",
       "  801643     17391.30\n",
       "  801674     58217.74\n",
       "  801696     19550.00\n",
       "  801703     27421.77\n",
       "  Name: CLAIM_PAID, Length: 60104, dtype: float64},\n",
       " <Figure size 1600x1200 with 12 Axes>)"
      ]
     },
     "execution_count": 15,
     "metadata": {},
     "output_type": "execute_result"
    },
    {
     "data": {
      "image/png": "[encoded data removed]",
      "text/plain": [
       "<Figure size 1600x1200 with 12 Axes>"
      ]
     },
     "metadata": {},
     "output_type": "display_data"
    }
   ],
   "source": [
    "du.listar_outliers_y_boxplot(df, cols_num)"
   ]
  },
  {
   "cell_type": "markdown",
   "metadata": {},
   "source": [
    "---"
   ]
  },
  {
   "cell_type": "markdown",
   "metadata": {},
   "source": [
    "### Guardamos el dataframe preprocesado"
   ]
  },
  {
   "cell_type": "code",
   "execution_count": 16,
   "metadata": {},
   "outputs": [],
   "source": [
    "df.to_csv('../Data/motor_data_2011_2018_pre.csv', index=False)  #\n",
    " # se guarda el dataframe "
   ]
  },
  {
   "cell_type": "markdown",
   "metadata": {},
   "source": [
    "---"
   ]
  },
  {
   "cell_type": "markdown",
   "metadata": {},
   "source": [
    "## Detección de outliers con Z-score"
   ]
  },
  {
   "cell_type": "code",
   "execution_count": 17,
   "metadata": {},
   "outputs": [
    {
     "name": "stdout",
     "output_type": "stream",
     "text": [
      "RISK_CATEGORY\n",
      "Normal       784801\n",
      "Very High     17037\n",
      "Name: count, dtype: int64\n"
     ]
    }
   ],
   "source": [
    "from scipy.stats import zscore\n",
    "import numpy as np\n",
    "\n",
    "# Variables relevantes para evaluar riesgo\n",
    "vars_riesgo = ['INSURED_VALUE', 'PREMIUM', 'CLAIM_PAID']\n",
    "\n",
    "# Cálculo de Z-score absoluto\n",
    "z_scores = np.abs(zscore(df[vars_riesgo]))\n",
    "\n",
    "# Umbral clásico de outliers: > 3 desviaciones estándar\n",
    "outliers = (z_scores > 3).any(axis=1)\n",
    "\n",
    "# Crear la columna de clasificación de riesgo\n",
    "df['RISK_CATEGORY'] = 'Normal'\n",
    "df.loc[outliers, 'RISK_CATEGORY'] = 'Very High'\n",
    "\n",
    "# Confirmar resultados\n",
    "print(df['RISK_CATEGORY'].value_counts())\n",
    "\n",
    "# Asegurar que OBJECT_ID es índice antes de grabar\n",
    "if 'OBJECT_ID' in df.columns:\n",
    "    df = df.set_index('OBJECT_ID')\n",
    "\n",
    "# Guardar el archivo incluyendo el índice correctamente\n",
    "df.to_csv('../data/motor_data_2011_2018_RISK.csv', index_label='OBJECT_ID')\n",
    "\n"
   ]
  }
 ],
 "metadata": {
  "kernelspec": {
   "display_name": "Insure_env",
   "language": "python",
   "name": "python3"
  },
  "language_info": {
   "codemirror_mode": {
    "name": "ipython",
    "version": 3
   },
   "file_extension": ".py",
   "mimetype": "text/x-python",
   "name": "python",
   "nbconvert_exporter": "python",
   "pygments_lexer": "ipython3",
   "version": "3.10.18"
  }
 },
 "nbformat": 4,
 "nbformat_minor": 2
}
