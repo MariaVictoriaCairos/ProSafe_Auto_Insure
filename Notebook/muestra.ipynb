{
 "cells": [
  {
   "cell_type": "code",
   "execution_count": 3,
   "id": "c26477a3",
   "metadata": {},
   "outputs": [
    {
     "name": "stdout",
     "output_type": "stream",
     "text": [
      "Archivo de muestra creado exitosamente.\n"
     ]
    }
   ],
   "source": [
    "import pandas as pd\n",
    "\n",
    "# Cargar el dataset completo\n",
    "df = pd.read_csv('../Data/motor_data_final_para_powerbi.csv')\n",
    "\n",
    "# Extraer 500 registros aleatorios\n",
    "df_muestra = df.sample(n=500, random_state=42)\n",
    "\n",
    "# Guardar la muestra en un nuevo archivo CSV\n",
    "df_muestra.to_csv('../Data/muestra_motor_data_para_powerbi.csv', index=False)\n",
    "\n",
    "print(\"Archivo de muestra creado exitosamente.\")\n"
   ]
  }
 ],
 "metadata": {
  "kernelspec": {
   "display_name": "Insure_env",
   "language": "python",
   "name": "python3"
  },
  "language_info": {
   "codemirror_mode": {
    "name": "ipython",
    "version": 3
   },
   "file_extension": ".py",
   "mimetype": "text/x-python",
   "name": "python",
   "nbconvert_exporter": "python",
   "pygments_lexer": "ipython3",
   "version": "3.10.18"
  }
 },
 "nbformat": 4,
 "nbformat_minor": 5
}
