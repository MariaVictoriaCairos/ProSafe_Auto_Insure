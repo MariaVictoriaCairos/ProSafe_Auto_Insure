{
 "cells": [
  {
   "cell_type": "markdown",
   "id": "82064c39",
   "metadata": {},
   "source": [
    "# Generación de nuevo cliente aleatorio\n",
    "Este notebook genera un nuevo cliente a partir del dataset de entrenamiento, modifica algunos campos y asegura que el OBJECT_ID sea único. El resultado se guarda como `nuevo_cliente.csv` listo para evaluación."
   ]
  },
  {
   "cell_type": "code",
   "execution_count": 1,
   "id": "35cc0342",
   "metadata": {},
   "outputs": [],
   "source": [
    "import pandas as pd"
   ]
  },
  {
   "cell_type": "code",
   "execution_count": 2,
   "id": "bb52fb05",
   "metadata": {},
   "outputs": [
    {
     "data": {
      "application/vnd.microsoft.datawrangler.viewer.v0+json": {
       "columns": [
        {
         "name": "index",
         "rawType": "int64",
         "type": "integer"
        },
        {
         "name": "OBJECT_ID",
         "rawType": "int64",
         "type": "integer"
        },
        {
         "name": "SEX",
         "rawType": "int64",
         "type": "integer"
        },
        {
         "name": "INSR_BEGIN",
         "rawType": "object",
         "type": "string"
        },
        {
         "name": "INSR_END",
         "rawType": "object",
         "type": "string"
        },
        {
         "name": "EFFECTIVE_YR",
         "rawType": "float64",
         "type": "float"
        },
        {
         "name": "INSR_TYPE",
         "rawType": "int64",
         "type": "integer"
        },
        {
         "name": "INSURED_VALUE",
         "rawType": "float64",
         "type": "float"
        },
        {
         "name": "PREMIUM",
         "rawType": "float64",
         "type": "float"
        },
        {
         "name": "PROD_YEAR",
         "rawType": "float64",
         "type": "float"
        },
        {
         "name": "SEATS_NUM",
         "rawType": "float64",
         "type": "float"
        },
        {
         "name": "CARRYING_CAPACITY",
         "rawType": "float64",
         "type": "float"
        },
        {
         "name": "TYPE_VEHICLE",
         "rawType": "object",
         "type": "string"
        },
        {
         "name": "CCM_TON",
         "rawType": "float64",
         "type": "float"
        },
        {
         "name": "MAKE",
         "rawType": "object",
         "type": "string"
        },
        {
         "name": "USAGE",
         "rawType": "object",
         "type": "string"
        },
        {
         "name": "CLAIM_PAID",
         "rawType": "int64",
         "type": "integer"
        },
        {
         "name": "HAS_CLAIM",
         "rawType": "int64",
         "type": "integer"
        }
       ],
       "ref": "e8650fac-bfb9-4a98-8e3c-d21dd577e226",
       "rows": [
        [
         "218841",
         "5001350532",
         "1",
         "2012-08-04",
         "2013-08-03",
         "2012.0",
         "1202",
         "0.0",
         "1018.3199999999999",
         "2012.0",
         "4.0",
         "3.0",
         "Motor-cycle",
         "198.75",
         "BAJAJ",
         "Taxi",
         "0",
         "0"
        ]
       ],
       "shape": {
        "columns": 17,
        "rows": 1
       }
      },
      "text/html": [
       "<div>\n",
       "<style scoped>\n",
       "    .dataframe tbody tr th:only-of-type {\n",
       "        vertical-align: middle;\n",
       "    }\n",
       "\n",
       "    .dataframe tbody tr th {\n",
       "        vertical-align: top;\n",
       "    }\n",
       "\n",
       "    .dataframe thead th {\n",
       "        text-align: right;\n",
       "    }\n",
       "</style>\n",
       "<table border=\"1\" class=\"dataframe\">\n",
       "  <thead>\n",
       "    <tr style=\"text-align: right;\">\n",
       "      <th></th>\n",
       "      <th>OBJECT_ID</th>\n",
       "      <th>SEX</th>\n",
       "      <th>INSR_BEGIN</th>\n",
       "      <th>INSR_END</th>\n",
       "      <th>EFFECTIVE_YR</th>\n",
       "      <th>INSR_TYPE</th>\n",
       "      <th>INSURED_VALUE</th>\n",
       "      <th>PREMIUM</th>\n",
       "      <th>PROD_YEAR</th>\n",
       "      <th>SEATS_NUM</th>\n",
       "      <th>CARRYING_CAPACITY</th>\n",
       "      <th>TYPE_VEHICLE</th>\n",
       "      <th>CCM_TON</th>\n",
       "      <th>MAKE</th>\n",
       "      <th>USAGE</th>\n",
       "      <th>CLAIM_PAID</th>\n",
       "      <th>HAS_CLAIM</th>\n",
       "    </tr>\n",
       "  </thead>\n",
       "  <tbody>\n",
       "    <tr>\n",
       "      <th>218841</th>\n",
       "      <td>5001350532</td>\n",
       "      <td>1</td>\n",
       "      <td>2012-08-04</td>\n",
       "      <td>2013-08-03</td>\n",
       "      <td>2012.0</td>\n",
       "      <td>1202</td>\n",
       "      <td>0.0</td>\n",
       "      <td>1018.32</td>\n",
       "      <td>2012.0</td>\n",
       "      <td>4.0</td>\n",
       "      <td>3.0</td>\n",
       "      <td>Motor-cycle</td>\n",
       "      <td>198.75</td>\n",
       "      <td>BAJAJ</td>\n",
       "      <td>Taxi</td>\n",
       "      <td>0</td>\n",
       "      <td>0</td>\n",
       "    </tr>\n",
       "  </tbody>\n",
       "</table>\n",
       "</div>"
      ],
      "text/plain": [
       "         OBJECT_ID  SEX  INSR_BEGIN    INSR_END  EFFECTIVE_YR  INSR_TYPE  \\\n",
       "218841  5001350532    1  2012-08-04  2013-08-03        2012.0       1202   \n",
       "\n",
       "        INSURED_VALUE  PREMIUM  PROD_YEAR  SEATS_NUM  CARRYING_CAPACITY  \\\n",
       "218841            0.0  1018.32     2012.0        4.0                3.0   \n",
       "\n",
       "       TYPE_VEHICLE  CCM_TON   MAKE USAGE  CLAIM_PAID  HAS_CLAIM  \n",
       "218841  Motor-cycle   198.75  BAJAJ  Taxi           0          0  "
      ]
     },
     "execution_count": 2,
     "metadata": {},
     "output_type": "execute_result"
    }
   ],
   "source": [
    "# Cargar el dataset de entrenamiento\n",
    "df = pd.read_csv('../Data/motor_data_2011_2018_pre.csv')\n",
    "\n",
    "# Seleccionar un registro aleatorio\n",
    "nuevo_cliente = df.sample(1).copy()\n",
    "\n",
    "# Modificar algunos campos\n",
    "nuevo_cliente['INSURED_VALUE'] = nuevo_cliente['INSURED_VALUE'] * 1.1  # Aumenta valor asegurado\n",
    "nuevo_cliente['PREMIUM'] = nuevo_cliente['PREMIUM'] * 1.2  # Aumenta prima\n",
    "nuevo_cliente['CLAIM_PAID'] = 0  # Sin siniestros\n",
    "\n",
    "# Asignar un nuevo OBJECT_ID\n",
    "nuevo_id = df['OBJECT_ID'].max() + 1\n",
    "nuevo_cliente['OBJECT_ID'] = nuevo_id\n",
    "\n",
    "# Guardar el resultado\n",
    "nuevo_cliente.to_csv('../Data/nuevo_cliente.csv', index=False)\n",
    "\n",
    "nuevo_cliente"
   ]
  }
 ],
 "metadata": {
  "kernelspec": {
   "display_name": "Insure_env",
   "language": "python",
   "name": "python3"
  },
  "language_info": {
   "codemirror_mode": {
    "name": "ipython",
    "version": 3
   },
   "file_extension": ".py",
   "mimetype": "text/x-python",
   "name": "python",
   "nbconvert_exporter": "python",
   "pygments_lexer": "ipython3",
   "version": "3.10.18"
  }
 },
 "nbformat": 4,
 "nbformat_minor": 5
}
